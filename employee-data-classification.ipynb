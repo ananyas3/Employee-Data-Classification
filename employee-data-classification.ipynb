{
 "cells": [
  {
   "cell_type": "code",
   "execution_count": 1,
   "id": "f6a9a8fc",
   "metadata": {
    "_cell_guid": "b1076dfc-b9ad-4769-8c92-a6c4dae69d19",
    "_uuid": "8f2839f25d086af736a60e9eeb907d3b93b6e0e5",
    "execution": {
     "iopub.execute_input": "2023-10-23T20:27:33.263500Z",
     "iopub.status.busy": "2023-10-23T20:27:33.262808Z",
     "iopub.status.idle": "2023-10-23T20:27:33.738147Z",
     "shell.execute_reply": "2023-10-23T20:27:33.736912Z"
    },
    "papermill": {
     "duration": 0.495067,
     "end_time": "2023-10-23T20:27:33.741077",
     "exception": false,
     "start_time": "2023-10-23T20:27:33.246010",
     "status": "completed"
    },
    "tags": []
   },
   "outputs": [
    {
     "name": "stdout",
     "output_type": "stream",
     "text": [
      "/kaggle/input/employee-dataset/Employee.csv\n"
     ]
    }
   ],
   "source": [
    "# This Python 3 environment comes with many helpful analytics libraries installed\n",
    "# It is defined by the kaggle/python Docker image: https://github.com/kaggle/docker-python\n",
    "# For example, here's several helpful packages to load\n",
    "\n",
    "import numpy as np # linear algebra\n",
    "import pandas as pd # data processing, CSV file I/O (e.g. pd.read_csv)\n",
    "\n",
    "# Input data files are available in the read-only \"../input/\" directory\n",
    "# For example, running this (by clicking run or pressing Shift+Enter) will list all files under the input directory\n",
    "\n",
    "import os\n",
    "for dirname, _, filenames in os.walk('/kaggle/input'):\n",
    "    for filename in filenames:\n",
    "        print(os.path.join(dirname, filename))\n",
    "\n",
    "# You can write up to 20GB to the current directory (/kaggle/working/) that gets preserved as output when you create a version using \"Save & Run All\" \n",
    "# You can also write temporary files to /kaggle/temp/, but they won't be saved outside of the current session"
   ]
  },
  {
   "cell_type": "markdown",
   "id": "29529944",
   "metadata": {
    "papermill": {
     "duration": 0.013602,
     "end_time": "2023-10-23T20:27:33.768807",
     "exception": false,
     "start_time": "2023-10-23T20:27:33.755205",
     "status": "completed"
    },
    "tags": []
   },
   "source": [
    "<div style=\"\n",
    "    background-color: black;\n",
    "    padding: 20px;\n",
    "    border-radius: 10px;\n",
    "    box-shadow: 0 0 10px rgba(0, 0, 0, 0.2);\n",
    "    text-align: center;\n",
    "    font-size: 25px;\n",
    "    color: white;\n",
    "    font-weight: bold;\">\n",
    "1.Import necessary libraries\n",
    "</div>\n"
   ]
  },
  {
   "cell_type": "code",
   "execution_count": 2,
   "id": "ff78314d",
   "metadata": {
    "execution": {
     "iopub.execute_input": "2023-10-23T20:27:33.799499Z",
     "iopub.status.busy": "2023-10-23T20:27:33.798372Z",
     "iopub.status.idle": "2023-10-23T20:27:35.512110Z",
     "shell.execute_reply": "2023-10-23T20:27:35.510865Z"
    },
    "papermill": {
     "duration": 1.732734,
     "end_time": "2023-10-23T20:27:35.515424",
     "exception": false,
     "start_time": "2023-10-23T20:27:33.782690",
     "status": "completed"
    },
    "tags": []
   },
   "outputs": [],
   "source": [
    "import numpy as np \n",
    "import pandas as pd\n",
    "from matplotlib import pyplot as plt\n",
    "import seaborn as sns"
   ]
  },
  {
   "cell_type": "markdown",
   "id": "2ae9bb47",
   "metadata": {
    "papermill": {
     "duration": 0.012994,
     "end_time": "2023-10-23T20:27:35.542332",
     "exception": false,
     "start_time": "2023-10-23T20:27:35.529338",
     "status": "completed"
    },
    "tags": []
   },
   "source": [
    "<div style=\"\n",
    "    background-color: black;\n",
    "    padding: 20px;\n",
    "    border-radius: 10px;\n",
    "    box-shadow: 0 0 10px rgba(0, 0, 0, 0.2);\n",
    "    text-align: center;\n",
    "    font-size: 25px;\n",
    "    color: white;\n",
    "    font-weight: bold;\">\n",
    "2. Load the dataset\n",
    "</div>\n"
   ]
  },
  {
   "cell_type": "code",
   "execution_count": 3,
   "id": "38523848",
   "metadata": {
    "execution": {
     "iopub.execute_input": "2023-10-23T20:27:35.571256Z",
     "iopub.status.busy": "2023-10-23T20:27:35.570492Z",
     "iopub.status.idle": "2023-10-23T20:27:35.603534Z",
     "shell.execute_reply": "2023-10-23T20:27:35.602173Z"
    },
    "papermill": {
     "duration": 0.051029,
     "end_time": "2023-10-23T20:27:35.606538",
     "exception": false,
     "start_time": "2023-10-23T20:27:35.555509",
     "status": "completed"
    },
    "tags": []
   },
   "outputs": [],
   "source": [
    "df=pd.read_csv(\"/kaggle/input/employee-dataset/Employee.csv\")"
   ]
  },
  {
   "cell_type": "markdown",
   "id": "55809d3b",
   "metadata": {
    "papermill": {
     "duration": 0.013367,
     "end_time": "2023-10-23T20:27:35.634067",
     "exception": false,
     "start_time": "2023-10-23T20:27:35.620700",
     "status": "completed"
    },
    "tags": []
   },
   "source": [
    "<div style=\"\n",
    "    background-color: black;\n",
    "    padding: 20px;\n",
    "    border-radius: 10px;\n",
    "    box-shadow: 0 0 10px rgba(0, 0, 0, 0.2);\n",
    "    text-align: center;\n",
    "    font-size: 25px;\n",
    "    color: white;\n",
    "    font-weight: bold;\">\n",
    "3. Basic Data Exploration\n",
    "</div>"
   ]
  },
  {
   "cell_type": "markdown",
   "id": "0706279d",
   "metadata": {
    "papermill": {
     "duration": 0.012726,
     "end_time": "2023-10-23T20:27:35.660626",
     "exception": false,
     "start_time": "2023-10-23T20:27:35.647900",
     "status": "completed"
    },
    "tags": []
   },
   "source": [
    "<div style=\"\n",
    "    background-color: #FFFFE0;\n",
    "    padding: 5px;\n",
    "    border-radius: 5px;\n",
    "    box-shadow: 0 0 5px rgba(0, 0, 0, 0.2);\n",
    "    text-align: center;\n",
    "    font-size: 18px;\n",
    "    color: #333;\n",
    "    font-weight: bold;\">\n",
    "    Display DataFrame\n",
    "</div>\n"
   ]
  },
  {
   "cell_type": "code",
   "execution_count": 4,
   "id": "d823ecd4",
   "metadata": {
    "execution": {
     "iopub.execute_input": "2023-10-23T20:27:35.689302Z",
     "iopub.status.busy": "2023-10-23T20:27:35.688741Z",
     "iopub.status.idle": "2023-10-23T20:27:35.714073Z",
     "shell.execute_reply": "2023-10-23T20:27:35.713254Z"
    },
    "papermill": {
     "duration": 0.042444,
     "end_time": "2023-10-23T20:27:35.716246",
     "exception": false,
     "start_time": "2023-10-23T20:27:35.673802",
     "status": "completed"
    },
    "tags": []
   },
   "outputs": [
    {
     "data": {
      "text/html": [
       "<div>\n",
       "<style scoped>\n",
       "    .dataframe tbody tr th:only-of-type {\n",
       "        vertical-align: middle;\n",
       "    }\n",
       "\n",
       "    .dataframe tbody tr th {\n",
       "        vertical-align: top;\n",
       "    }\n",
       "\n",
       "    .dataframe thead th {\n",
       "        text-align: right;\n",
       "    }\n",
       "</style>\n",
       "<table border=\"1\" class=\"dataframe\">\n",
       "  <thead>\n",
       "    <tr style=\"text-align: right;\">\n",
       "      <th></th>\n",
       "      <th>Education</th>\n",
       "      <th>JoiningYear</th>\n",
       "      <th>City</th>\n",
       "      <th>PaymentTier</th>\n",
       "      <th>Age</th>\n",
       "      <th>Gender</th>\n",
       "      <th>EverBenched</th>\n",
       "      <th>ExperienceInCurrentDomain</th>\n",
       "      <th>LeaveOrNot</th>\n",
       "    </tr>\n",
       "  </thead>\n",
       "  <tbody>\n",
       "    <tr>\n",
       "      <th>0</th>\n",
       "      <td>Bachelors</td>\n",
       "      <td>2017</td>\n",
       "      <td>Bangalore</td>\n",
       "      <td>3</td>\n",
       "      <td>34</td>\n",
       "      <td>Male</td>\n",
       "      <td>No</td>\n",
       "      <td>0</td>\n",
       "      <td>0</td>\n",
       "    </tr>\n",
       "    <tr>\n",
       "      <th>1</th>\n",
       "      <td>Bachelors</td>\n",
       "      <td>2013</td>\n",
       "      <td>Pune</td>\n",
       "      <td>1</td>\n",
       "      <td>28</td>\n",
       "      <td>Female</td>\n",
       "      <td>No</td>\n",
       "      <td>3</td>\n",
       "      <td>1</td>\n",
       "    </tr>\n",
       "    <tr>\n",
       "      <th>2</th>\n",
       "      <td>Bachelors</td>\n",
       "      <td>2014</td>\n",
       "      <td>New Delhi</td>\n",
       "      <td>3</td>\n",
       "      <td>38</td>\n",
       "      <td>Female</td>\n",
       "      <td>No</td>\n",
       "      <td>2</td>\n",
       "      <td>0</td>\n",
       "    </tr>\n",
       "    <tr>\n",
       "      <th>3</th>\n",
       "      <td>Masters</td>\n",
       "      <td>2016</td>\n",
       "      <td>Bangalore</td>\n",
       "      <td>3</td>\n",
       "      <td>27</td>\n",
       "      <td>Male</td>\n",
       "      <td>No</td>\n",
       "      <td>5</td>\n",
       "      <td>1</td>\n",
       "    </tr>\n",
       "    <tr>\n",
       "      <th>4</th>\n",
       "      <td>Masters</td>\n",
       "      <td>2017</td>\n",
       "      <td>Pune</td>\n",
       "      <td>3</td>\n",
       "      <td>24</td>\n",
       "      <td>Male</td>\n",
       "      <td>Yes</td>\n",
       "      <td>2</td>\n",
       "      <td>1</td>\n",
       "    </tr>\n",
       "  </tbody>\n",
       "</table>\n",
       "</div>"
      ],
      "text/plain": [
       "   Education  JoiningYear       City  PaymentTier  Age  Gender EverBenched  \\\n",
       "0  Bachelors         2017  Bangalore            3   34    Male          No   \n",
       "1  Bachelors         2013       Pune            1   28  Female          No   \n",
       "2  Bachelors         2014  New Delhi            3   38  Female          No   \n",
       "3    Masters         2016  Bangalore            3   27    Male          No   \n",
       "4    Masters         2017       Pune            3   24    Male         Yes   \n",
       "\n",
       "   ExperienceInCurrentDomain  LeaveOrNot  \n",
       "0                          0           0  \n",
       "1                          3           1  \n",
       "2                          2           0  \n",
       "3                          5           1  \n",
       "4                          2           1  "
      ]
     },
     "execution_count": 4,
     "metadata": {},
     "output_type": "execute_result"
    }
   ],
   "source": [
    "df.head()"
   ]
  },
  {
   "cell_type": "markdown",
   "id": "94e3a1e0",
   "metadata": {
    "papermill": {
     "duration": 0.013448,
     "end_time": "2023-10-23T20:27:35.743454",
     "exception": false,
     "start_time": "2023-10-23T20:27:35.730006",
     "status": "completed"
    },
    "tags": []
   },
   "source": [
    "<div style=\"\n",
    "    background-color: #FFFFE0;\n",
    "    padding: 5px;\n",
    "    border-radius: 5px;\n",
    "    box-shadow: 0 0 5px rgba(0, 0, 0, 0.2);\n",
    "    text-align: center;\n",
    "    font-size: 18px;\n",
    "    color: #333;\n",
    "    font-weight: bold;\">\n",
    "    Dataset Shape \n",
    "</div>\n"
   ]
  },
  {
   "cell_type": "code",
   "execution_count": 5,
   "id": "70af986e",
   "metadata": {
    "execution": {
     "iopub.execute_input": "2023-10-23T20:27:35.774752Z",
     "iopub.status.busy": "2023-10-23T20:27:35.773989Z",
     "iopub.status.idle": "2023-10-23T20:27:35.780239Z",
     "shell.execute_reply": "2023-10-23T20:27:35.779293Z"
    },
    "papermill": {
     "duration": 0.024772,
     "end_time": "2023-10-23T20:27:35.782366",
     "exception": false,
     "start_time": "2023-10-23T20:27:35.757594",
     "status": "completed"
    },
    "tags": []
   },
   "outputs": [
    {
     "data": {
      "text/plain": [
       "(4653, 9)"
      ]
     },
     "execution_count": 5,
     "metadata": {},
     "output_type": "execute_result"
    }
   ],
   "source": [
    "df.shape  "
   ]
  },
  {
   "cell_type": "markdown",
   "id": "cada7ba0",
   "metadata": {
    "papermill": {
     "duration": 0.015298,
     "end_time": "2023-10-23T20:27:35.812097",
     "exception": false,
     "start_time": "2023-10-23T20:27:35.796799",
     "status": "completed"
    },
    "tags": []
   },
   "source": [
    "<div style=\"\n",
    "    background-color: #FFFFE0;\n",
    "    padding: 5px;\n",
    "    border-radius: 5px;\n",
    "    box-shadow: 0 0 5px rgba(0, 0, 0, 0.2);\n",
    "    text-align: center;\n",
    "    font-size: 18px;\n",
    "    color: #333;\n",
    "    font-weight: bold;\">\n",
    "    Dataset Information\n",
    "</div>\n"
   ]
  },
  {
   "cell_type": "code",
   "execution_count": 6,
   "id": "a4c2e679",
   "metadata": {
    "execution": {
     "iopub.execute_input": "2023-10-23T20:27:35.842624Z",
     "iopub.status.busy": "2023-10-23T20:27:35.841839Z",
     "iopub.status.idle": "2023-10-23T20:27:35.877235Z",
     "shell.execute_reply": "2023-10-23T20:27:35.876065Z"
    },
    "papermill": {
     "duration": 0.053917,
     "end_time": "2023-10-23T20:27:35.879961",
     "exception": false,
     "start_time": "2023-10-23T20:27:35.826044",
     "status": "completed"
    },
    "tags": []
   },
   "outputs": [
    {
     "name": "stdout",
     "output_type": "stream",
     "text": [
      "<class 'pandas.core.frame.DataFrame'>\n",
      "RangeIndex: 4653 entries, 0 to 4652\n",
      "Data columns (total 9 columns):\n",
      " #   Column                     Non-Null Count  Dtype \n",
      "---  ------                     --------------  ----- \n",
      " 0   Education                  4653 non-null   object\n",
      " 1   JoiningYear                4653 non-null   int64 \n",
      " 2   City                       4653 non-null   object\n",
      " 3   PaymentTier                4653 non-null   int64 \n",
      " 4   Age                        4653 non-null   int64 \n",
      " 5   Gender                     4653 non-null   object\n",
      " 6   EverBenched                4653 non-null   object\n",
      " 7   ExperienceInCurrentDomain  4653 non-null   int64 \n",
      " 8   LeaveOrNot                 4653 non-null   int64 \n",
      "dtypes: int64(5), object(4)\n",
      "memory usage: 327.3+ KB\n"
     ]
    }
   ],
   "source": [
    "df.info()"
   ]
  },
  {
   "cell_type": "markdown",
   "id": "bbb21f71",
   "metadata": {
    "papermill": {
     "duration": 0.013936,
     "end_time": "2023-10-23T20:27:35.908095",
     "exception": false,
     "start_time": "2023-10-23T20:27:35.894159",
     "status": "completed"
    },
    "tags": []
   },
   "source": [
    "<div style=\"\n",
    "    background-color: #FFFFE0;\n",
    "    padding: 5px;\n",
    "    border-radius: 5px;\n",
    "    box-shadow: 0 0 5px rgba(0, 0, 0, 0.2);\n",
    "    text-align: center;\n",
    "    font-size: 18px;\n",
    "    color: #333;\n",
    "    font-weight: bold;\">\n",
    "    Dataset Statistics\n",
    "</div>\n"
   ]
  },
  {
   "cell_type": "code",
   "execution_count": 7,
   "id": "641f9200",
   "metadata": {
    "execution": {
     "iopub.execute_input": "2023-10-23T20:27:35.938461Z",
     "iopub.status.busy": "2023-10-23T20:27:35.938031Z",
     "iopub.status.idle": "2023-10-23T20:27:35.967865Z",
     "shell.execute_reply": "2023-10-23T20:27:35.966719Z"
    },
    "papermill": {
     "duration": 0.048317,
     "end_time": "2023-10-23T20:27:35.970370",
     "exception": false,
     "start_time": "2023-10-23T20:27:35.922053",
     "status": "completed"
    },
    "tags": []
   },
   "outputs": [
    {
     "data": {
      "text/html": [
       "<div>\n",
       "<style scoped>\n",
       "    .dataframe tbody tr th:only-of-type {\n",
       "        vertical-align: middle;\n",
       "    }\n",
       "\n",
       "    .dataframe tbody tr th {\n",
       "        vertical-align: top;\n",
       "    }\n",
       "\n",
       "    .dataframe thead th {\n",
       "        text-align: right;\n",
       "    }\n",
       "</style>\n",
       "<table border=\"1\" class=\"dataframe\">\n",
       "  <thead>\n",
       "    <tr style=\"text-align: right;\">\n",
       "      <th></th>\n",
       "      <th>JoiningYear</th>\n",
       "      <th>PaymentTier</th>\n",
       "      <th>Age</th>\n",
       "      <th>ExperienceInCurrentDomain</th>\n",
       "      <th>LeaveOrNot</th>\n",
       "    </tr>\n",
       "  </thead>\n",
       "  <tbody>\n",
       "    <tr>\n",
       "      <th>count</th>\n",
       "      <td>4653.000000</td>\n",
       "      <td>4653.000000</td>\n",
       "      <td>4653.000000</td>\n",
       "      <td>4653.000000</td>\n",
       "      <td>4653.000000</td>\n",
       "    </tr>\n",
       "    <tr>\n",
       "      <th>mean</th>\n",
       "      <td>2015.062970</td>\n",
       "      <td>2.698259</td>\n",
       "      <td>29.393295</td>\n",
       "      <td>2.905652</td>\n",
       "      <td>0.343864</td>\n",
       "    </tr>\n",
       "    <tr>\n",
       "      <th>std</th>\n",
       "      <td>1.863377</td>\n",
       "      <td>0.561435</td>\n",
       "      <td>4.826087</td>\n",
       "      <td>1.558240</td>\n",
       "      <td>0.475047</td>\n",
       "    </tr>\n",
       "    <tr>\n",
       "      <th>min</th>\n",
       "      <td>2012.000000</td>\n",
       "      <td>1.000000</td>\n",
       "      <td>22.000000</td>\n",
       "      <td>0.000000</td>\n",
       "      <td>0.000000</td>\n",
       "    </tr>\n",
       "    <tr>\n",
       "      <th>25%</th>\n",
       "      <td>2013.000000</td>\n",
       "      <td>3.000000</td>\n",
       "      <td>26.000000</td>\n",
       "      <td>2.000000</td>\n",
       "      <td>0.000000</td>\n",
       "    </tr>\n",
       "    <tr>\n",
       "      <th>50%</th>\n",
       "      <td>2015.000000</td>\n",
       "      <td>3.000000</td>\n",
       "      <td>28.000000</td>\n",
       "      <td>3.000000</td>\n",
       "      <td>0.000000</td>\n",
       "    </tr>\n",
       "    <tr>\n",
       "      <th>75%</th>\n",
       "      <td>2017.000000</td>\n",
       "      <td>3.000000</td>\n",
       "      <td>32.000000</td>\n",
       "      <td>4.000000</td>\n",
       "      <td>1.000000</td>\n",
       "    </tr>\n",
       "    <tr>\n",
       "      <th>max</th>\n",
       "      <td>2018.000000</td>\n",
       "      <td>3.000000</td>\n",
       "      <td>41.000000</td>\n",
       "      <td>7.000000</td>\n",
       "      <td>1.000000</td>\n",
       "    </tr>\n",
       "  </tbody>\n",
       "</table>\n",
       "</div>"
      ],
      "text/plain": [
       "       JoiningYear  PaymentTier          Age  ExperienceInCurrentDomain  \\\n",
       "count  4653.000000  4653.000000  4653.000000                4653.000000   \n",
       "mean   2015.062970     2.698259    29.393295                   2.905652   \n",
       "std       1.863377     0.561435     4.826087                   1.558240   \n",
       "min    2012.000000     1.000000    22.000000                   0.000000   \n",
       "25%    2013.000000     3.000000    26.000000                   2.000000   \n",
       "50%    2015.000000     3.000000    28.000000                   3.000000   \n",
       "75%    2017.000000     3.000000    32.000000                   4.000000   \n",
       "max    2018.000000     3.000000    41.000000                   7.000000   \n",
       "\n",
       "        LeaveOrNot  \n",
       "count  4653.000000  \n",
       "mean      0.343864  \n",
       "std       0.475047  \n",
       "min       0.000000  \n",
       "25%       0.000000  \n",
       "50%       0.000000  \n",
       "75%       1.000000  \n",
       "max       1.000000  "
      ]
     },
     "execution_count": 7,
     "metadata": {},
     "output_type": "execute_result"
    }
   ],
   "source": [
    "df.describe() "
   ]
  },
  {
   "cell_type": "markdown",
   "id": "4b05f936",
   "metadata": {
    "papermill": {
     "duration": 0.01404,
     "end_time": "2023-10-23T20:27:35.999095",
     "exception": false,
     "start_time": "2023-10-23T20:27:35.985055",
     "status": "completed"
    },
    "tags": []
   },
   "source": [
    "<div style=\"\n",
    "    background-color: black;\n",
    "    padding: 20px;\n",
    "    border-radius: 10px;\n",
    "    box-shadow: 0 0 10px rgba(0, 0, 0, 0.2);\n",
    "    text-align: center;\n",
    "    font-size: 25px;\n",
    "    color: white;\n",
    "    font-weight: bold;\">\n",
    "4.  Data Preprocessing\n",
    "</div>"
   ]
  },
  {
   "cell_type": "markdown",
   "id": "85b059bc",
   "metadata": {
    "papermill": {
     "duration": 0.014363,
     "end_time": "2023-10-23T20:27:36.029169",
     "exception": false,
     "start_time": "2023-10-23T20:27:36.014806",
     "status": "completed"
    },
    "tags": []
   },
   "source": [
    "<div style=\"\n",
    "    background-color: #FFFFE0;\n",
    "    padding: 5px;\n",
    "    border-radius: 5px;\n",
    "    box-shadow: 0 0 5px rgba(0, 0, 0, 0.2);\n",
    "    text-align: center;\n",
    "    font-size: 18px;\n",
    "    color: #333;\n",
    "    font-weight: bold;\">\n",
    "    Missing Values\n",
    "</div>"
   ]
  },
  {
   "cell_type": "code",
   "execution_count": 8,
   "id": "0b09ded2",
   "metadata": {
    "execution": {
     "iopub.execute_input": "2023-10-23T20:27:36.061559Z",
     "iopub.status.busy": "2023-10-23T20:27:36.060203Z",
     "iopub.status.idle": "2023-10-23T20:27:36.072216Z",
     "shell.execute_reply": "2023-10-23T20:27:36.071169Z"
    },
    "papermill": {
     "duration": 0.030883,
     "end_time": "2023-10-23T20:27:36.074836",
     "exception": false,
     "start_time": "2023-10-23T20:27:36.043953",
     "status": "completed"
    },
    "tags": []
   },
   "outputs": [
    {
     "data": {
      "text/plain": [
       "Education                    0\n",
       "JoiningYear                  0\n",
       "City                         0\n",
       "PaymentTier                  0\n",
       "Age                          0\n",
       "Gender                       0\n",
       "EverBenched                  0\n",
       "ExperienceInCurrentDomain    0\n",
       "LeaveOrNot                   0\n",
       "dtype: int64"
      ]
     },
     "execution_count": 8,
     "metadata": {},
     "output_type": "execute_result"
    }
   ],
   "source": [
    "df.isnull().sum()  "
   ]
  },
  {
   "cell_type": "markdown",
   "id": "c2952161",
   "metadata": {
    "papermill": {
     "duration": 0.014327,
     "end_time": "2023-10-23T20:27:36.104294",
     "exception": false,
     "start_time": "2023-10-23T20:27:36.089967",
     "status": "completed"
    },
    "tags": []
   },
   "source": [
    "<div style=\"\n",
    "    background-color: #FFFFE0;\n",
    "    padding: 5px;\n",
    "    border-radius: 5px;\n",
    "    box-shadow: 0 0 5px rgba(0, 0, 0, 0.2);\n",
    "    text-align: center;\n",
    "    font-size: 18px;\n",
    "    color: #333;\n",
    "    font-weight: bold;\">\n",
    "  Label encoding\n",
    "</div>"
   ]
  },
  {
   "cell_type": "code",
   "execution_count": 9,
   "id": "0135571d",
   "metadata": {
    "execution": {
     "iopub.execute_input": "2023-10-23T20:27:36.136361Z",
     "iopub.status.busy": "2023-10-23T20:27:36.135897Z",
     "iopub.status.idle": "2023-10-23T20:27:36.309416Z",
     "shell.execute_reply": "2023-10-23T20:27:36.308149Z"
    },
    "papermill": {
     "duration": 0.193285,
     "end_time": "2023-10-23T20:27:36.312446",
     "exception": false,
     "start_time": "2023-10-23T20:27:36.119161",
     "status": "completed"
    },
    "tags": []
   },
   "outputs": [],
   "source": [
    "from sklearn.preprocessing import LabelEncoder\n",
    "\n",
    "label_encoder = LabelEncoder()"
   ]
  },
  {
   "cell_type": "code",
   "execution_count": 10,
   "id": "df98d631",
   "metadata": {
    "execution": {
     "iopub.execute_input": "2023-10-23T20:27:36.440940Z",
     "iopub.status.busy": "2023-10-23T20:27:36.440442Z",
     "iopub.status.idle": "2023-10-23T20:27:36.455562Z",
     "shell.execute_reply": "2023-10-23T20:27:36.454306Z"
    },
    "papermill": {
     "duration": 0.034456,
     "end_time": "2023-10-23T20:27:36.458185",
     "exception": false,
     "start_time": "2023-10-23T20:27:36.423729",
     "status": "completed"
    },
    "tags": []
   },
   "outputs": [],
   "source": [
    "categorical_columns = ['Gender', 'EverBenched', 'Education','City']\n",
    "\n",
    "# Apply label encoding to each categorical column\n",
    "for column in categorical_columns:\n",
    "    df[column] = label_encoder.fit_transform(df[column])"
   ]
  },
  {
   "cell_type": "markdown",
   "id": "65a4c78c",
   "metadata": {
    "papermill": {
     "duration": 0.014419,
     "end_time": "2023-10-23T20:27:36.489805",
     "exception": false,
     "start_time": "2023-10-23T20:27:36.475386",
     "status": "completed"
    },
    "tags": []
   },
   "source": [
    "<div style=\"\n",
    "    background-color: #FFFFE0;\n",
    "    padding: 5px;\n",
    "    border-radius: 5px;\n",
    "    box-shadow: 0 0 5px rgba(0, 0, 0, 0.2);\n",
    "    text-align: center;\n",
    "    font-size: 18px;\n",
    "    color: #333;\n",
    "    font-weight: bold;\">\n",
    "  Define features and the target variable\n",
    "</div>"
   ]
  },
  {
   "cell_type": "code",
   "execution_count": 11,
   "id": "ce435434",
   "metadata": {
    "execution": {
     "iopub.execute_input": "2023-10-23T20:27:36.533148Z",
     "iopub.status.busy": "2023-10-23T20:27:36.532329Z",
     "iopub.status.idle": "2023-10-23T20:27:36.540592Z",
     "shell.execute_reply": "2023-10-23T20:27:36.539791Z"
    },
    "papermill": {
     "duration": 0.038345,
     "end_time": "2023-10-23T20:27:36.543061",
     "exception": false,
     "start_time": "2023-10-23T20:27:36.504716",
     "status": "completed"
    },
    "tags": []
   },
   "outputs": [],
   "source": [
    "X = df.drop('LeaveOrNot', axis=1)\n",
    "y = df['LeaveOrNot']"
   ]
  },
  {
   "cell_type": "markdown",
   "id": "7b87383c",
   "metadata": {
    "papermill": {
     "duration": 0.014377,
     "end_time": "2023-10-23T20:27:36.572316",
     "exception": false,
     "start_time": "2023-10-23T20:27:36.557939",
     "status": "completed"
    },
    "tags": []
   },
   "source": [
    "<div style=\"\n",
    "    background-color: black;\n",
    "    padding: 20px;\n",
    "    border-radius: 10px;\n",
    "    box-shadow: 0 0 10px rgba(0, 0, 0, 0.2);\n",
    "    text-align: center;\n",
    "    font-size: 25px;\n",
    "    color: white;\n",
    "    font-weight: bold;\">\n",
    "5. Data Visualization\n",
    "</div>"
   ]
  },
  {
   "cell_type": "markdown",
   "id": "dcd71225",
   "metadata": {
    "papermill": {
     "duration": 0.013209,
     "end_time": "2023-10-23T20:27:36.600006",
     "exception": false,
     "start_time": "2023-10-23T20:27:36.586797",
     "status": "completed"
    },
    "tags": []
   },
   "source": [
    "<div style=\"\n",
    "    background-color: #FFFFE0;\n",
    "    padding: 5px;\n",
    "    border-radius: 5px;\n",
    "    box-shadow: 0 0 5px rgba(0, 0, 0, 0.2);\n",
    "    text-align: center;\n",
    "    font-size: 18px;\n",
    "    color: #333;\n",
    "    font-weight: bold;\">\n",
    "    Age Distribution\n",
    "</div>\n"
   ]
  },
  {
   "cell_type": "code",
   "execution_count": 12,
   "id": "c2cd0d91",
   "metadata": {
    "execution": {
     "iopub.execute_input": "2023-10-23T20:27:36.630581Z",
     "iopub.status.busy": "2023-10-23T20:27:36.629645Z",
     "iopub.status.idle": "2023-10-23T20:27:37.151810Z",
     "shell.execute_reply": "2023-10-23T20:27:37.150582Z"
    },
    "papermill": {
     "duration": 0.541137,
     "end_time": "2023-10-23T20:27:37.154819",
     "exception": false,
     "start_time": "2023-10-23T20:27:36.613682",
     "status": "completed"
    },
    "tags": []
   },
   "outputs": [
    {
     "data": {
      "image/png": "[encoded data removed]",
      "text/plain": [
       "<Figure size 800x600 with 1 Axes>"
      ]
     },
     "metadata": {},
     "output_type": "display_data"
    }
   ],
   "source": [
    "plt.figure(figsize=(8, 6))\n",
    "\n",
    "sns.histplot(df['Age'], kde=True)\n",
    "\n",
    "plt.title('Age Distribution',fontsize=15)\n",
    "plt.xlabel('Age',fontsize=12)\n",
    "plt.ylabel('Count',fontsize=12)\n",
    "\n",
    "plt.show()"
   ]
  },
  {
   "cell_type": "markdown",
   "id": "ad3bd2e7",
   "metadata": {
    "papermill": {
     "duration": 0.015155,
     "end_time": "2023-10-23T20:27:37.185706",
     "exception": false,
     "start_time": "2023-10-23T20:27:37.170551",
     "status": "completed"
    },
    "tags": []
   },
   "source": [
    "<div style=\"\n",
    "    background-color: #FFFFE0;\n",
    "    padding: 5px;\n",
    "    border-radius: 5px;\n",
    "    box-shadow: 0 0 5px rgba(0, 0, 0, 0.2);\n",
    "    text-align: center;\n",
    "    font-size: 18px;\n",
    "    color: #333;\n",
    "    font-weight: bold;\">\n",
    "    Gender Distribution\n",
    "</div>\n"
   ]
  },
  {
   "cell_type": "code",
   "execution_count": 13,
   "id": "76876f51",
   "metadata": {
    "execution": {
     "iopub.execute_input": "2023-10-23T20:27:37.219305Z",
     "iopub.status.busy": "2023-10-23T20:27:37.218490Z",
     "iopub.status.idle": "2023-10-23T20:27:37.468484Z",
     "shell.execute_reply": "2023-10-23T20:27:37.467243Z"
    },
    "papermill": {
     "duration": 0.26985,
     "end_time": "2023-10-23T20:27:37.471118",
     "exception": false,
     "start_time": "2023-10-23T20:27:37.201268",
     "status": "completed"
    },
    "tags": []
   },
   "outputs": [
    {
     "data": {
      "image/png": "[encoded data removed]",
      "text/plain": [
       "<Figure size 800x600 with 1 Axes>"
      ]
     },
     "metadata": {},
     "output_type": "display_data"
    }
   ],
   "source": [
    "plt.figure(figsize=(8, 6))\n",
    "\n",
    "sns.countplot(data=df, x='Gender')\n",
    "\n",
    "plt.title('Gender Distribution')\n",
    "plt.xlabel('Gender')\n",
    "plt.ylabel('Count')\n",
    "\n",
    "plt.show()"
   ]
  },
  {
   "cell_type": "markdown",
   "id": "f980499e",
   "metadata": {
    "papermill": {
     "duration": 0.015715,
     "end_time": "2023-10-23T20:27:37.512816",
     "exception": false,
     "start_time": "2023-10-23T20:27:37.497101",
     "status": "completed"
    },
    "tags": []
   },
   "source": [
    "<div style=\"\n",
    "    background-color: #FFFFE0;\n",
    "    padding: 5px;\n",
    "    border-radius: 5px;\n",
    "    box-shadow: 0 0 5px rgba(0, 0, 0, 0.2);\n",
    "    text-align: center;\n",
    "    font-size: 18px;\n",
    "    color: #333;\n",
    "    font-weight: bold;\">\n",
    "   Bar Plot \n",
    "</div>"
   ]
  },
  {
   "cell_type": "code",
   "execution_count": 14,
   "id": "5e9212e8",
   "metadata": {
    "execution": {
     "iopub.execute_input": "2023-10-23T20:27:37.547305Z",
     "iopub.status.busy": "2023-10-23T20:27:37.546455Z",
     "iopub.status.idle": "2023-10-23T20:27:37.814799Z",
     "shell.execute_reply": "2023-10-23T20:27:37.813480Z"
    },
    "papermill": {
     "duration": 0.288816,
     "end_time": "2023-10-23T20:27:37.817424",
     "exception": false,
     "start_time": "2023-10-23T20:27:37.528608",
     "status": "completed"
    },
    "tags": []
   },
   "outputs": [
    {
     "data": {
      "image/png": "[encoded data removed]",
      "text/plain": [
       "<Figure size 800x600 with 1 Axes>"
      ]
     },
     "metadata": {},
     "output_type": "display_data"
    }
   ],
   "source": [
    "plt.figure(figsize=(8, 6))\n",
    "\n",
    "sns.barplot(data=df, x='PaymentTier', y='Age',errorbar=None)\n",
    "\n",
    "plt.title('Average Age by Payment Tier')\n",
    "plt.xlabel('Payment Tier')\n",
    "plt.ylabel('Average Age')\n",
    "\n",
    "plt.show() \n"
   ]
  },
  {
   "cell_type": "markdown",
   "id": "b2905534",
   "metadata": {
    "papermill": {
     "duration": 0.015533,
     "end_time": "2023-10-23T20:27:37.849382",
     "exception": false,
     "start_time": "2023-10-23T20:27:37.833849",
     "status": "completed"
    },
    "tags": []
   },
   "source": [
    "<div style=\"\n",
    "    background-color: black;\n",
    "    padding: 20px;\n",
    "    border-radius: 10px;\n",
    "    box-shadow: 0 0 10px rgba(0, 0, 0, 0.2);\n",
    "    text-align: center;\n",
    "    font-size: 25px;\n",
    "    color: white;\n",
    "    font-weight: bold;\">\n",
    "6. Data Splitting\n",
    "</div>"
   ]
  },
  {
   "cell_type": "code",
   "execution_count": 15,
   "id": "6ef17b73",
   "metadata": {
    "execution": {
     "iopub.execute_input": "2023-10-23T20:27:37.883006Z",
     "iopub.status.busy": "2023-10-23T20:27:37.882525Z",
     "iopub.status.idle": "2023-10-23T20:27:37.993125Z",
     "shell.execute_reply": "2023-10-23T20:27:37.991712Z"
    },
    "papermill": {
     "duration": 0.131703,
     "end_time": "2023-10-23T20:27:37.996742",
     "exception": false,
     "start_time": "2023-10-23T20:27:37.865039",
     "status": "completed"
    },
    "tags": []
   },
   "outputs": [],
   "source": [
    "from sklearn.model_selection import train_test_split"
   ]
  },
  {
   "cell_type": "code",
   "execution_count": 16,
   "id": "2b3d1188",
   "metadata": {
    "execution": {
     "iopub.execute_input": "2023-10-23T20:27:38.033817Z",
     "iopub.status.busy": "2023-10-23T20:27:38.032508Z",
     "iopub.status.idle": "2023-10-23T20:27:38.042440Z",
     "shell.execute_reply": "2023-10-23T20:27:38.041206Z"
    },
    "papermill": {
     "duration": 0.030645,
     "end_time": "2023-10-23T20:27:38.045095",
     "exception": false,
     "start_time": "2023-10-23T20:27:38.014450",
     "status": "completed"
    },
    "tags": []
   },
   "outputs": [],
   "source": [
    "X_train, X_test, y_train, y_test = train_test_split(X, y, test_size=0.2, random_state=42)"
   ]
  },
  {
   "cell_type": "markdown",
   "id": "bed0217b",
   "metadata": {
    "papermill": {
     "duration": 0.016105,
     "end_time": "2023-10-23T20:27:38.077289",
     "exception": false,
     "start_time": "2023-10-23T20:27:38.061184",
     "status": "completed"
    },
    "tags": []
   },
   "source": [
    "<div style=\"\n",
    "    background-color: black;\n",
    "    padding: 20px;\n",
    "    border-radius: 10px;\n",
    "    box-shadow: 0 0 10px rgba(0, 0, 0, 0.2);\n",
    "    text-align: center;\n",
    "    font-size: 25px;\n",
    "    color: white;\n",
    "    font-weight: bold;\">\n",
    "7. Model Building\n",
    "</div>"
   ]
  },
  {
   "cell_type": "markdown",
   "id": "10517f9e",
   "metadata": {
    "papermill": {
     "duration": 0.015345,
     "end_time": "2023-10-23T20:27:38.108916",
     "exception": false,
     "start_time": "2023-10-23T20:27:38.093571",
     "status": "completed"
    },
    "tags": []
   },
   "source": [
    "<div style=\"\n",
    "    background-color: #FFFFE0;\n",
    "    padding: 5px;\n",
    "    border-radius: 5px;\n",
    "    box-shadow: 0 0 5px rgba(0, 0, 0, 0.2);\n",
    "    text-align: center;\n",
    "    font-size: 18px;\n",
    "    color: #333;\n",
    "    font-weight: bold;\">\n",
    "  Model Selection\n",
    "</div>"
   ]
  },
  {
   "cell_type": "code",
   "execution_count": 17,
   "id": "0ce33ec8",
   "metadata": {
    "execution": {
     "iopub.execute_input": "2023-10-23T20:27:38.143631Z",
     "iopub.status.busy": "2023-10-23T20:27:38.142504Z",
     "iopub.status.idle": "2023-10-23T20:27:38.877328Z",
     "shell.execute_reply": "2023-10-23T20:27:38.876133Z"
    },
    "papermill": {
     "duration": 0.755801,
     "end_time": "2023-10-23T20:27:38.880626",
     "exception": false,
     "start_time": "2023-10-23T20:27:38.124825",
     "status": "completed"
    },
    "tags": []
   },
   "outputs": [],
   "source": [
    "from sklearn.ensemble import RandomForestClassifier\n",
    "\n",
    "model = RandomForestClassifier(n_estimators=100, random_state=42)"
   ]
  },
  {
   "cell_type": "markdown",
   "id": "854b86f7",
   "metadata": {
    "papermill": {
     "duration": 0.025511,
     "end_time": "2023-10-23T20:27:38.927559",
     "exception": false,
     "start_time": "2023-10-23T20:27:38.902048",
     "status": "completed"
    },
    "tags": []
   },
   "source": [
    "<div style=\"\n",
    "    background-color: #FFFFE0;\n",
    "    padding: 5px;\n",
    "    border-radius: 5px;\n",
    "    box-shadow: 0 0 5px rgba(0, 0, 0, 0.2);\n",
    "    text-align: center;\n",
    "    font-size: 18px;\n",
    "    color: #333;\n",
    "    font-weight: bold;\">\n",
    "  Model Training\n",
    "</div>"
   ]
  },
  {
   "cell_type": "code",
   "execution_count": 18,
   "id": "a55c2423",
   "metadata": {
    "execution": {
     "iopub.execute_input": "2023-10-23T20:27:38.974248Z",
     "iopub.status.busy": "2023-10-23T20:27:38.973082Z",
     "iopub.status.idle": "2023-10-23T20:27:39.452742Z",
     "shell.execute_reply": "2023-10-23T20:27:39.451569Z"
    },
    "papermill": {
     "duration": 0.509476,
     "end_time": "2023-10-23T20:27:39.456366",
     "exception": false,
     "start_time": "2023-10-23T20:27:38.946890",
     "status": "completed"
    },
    "tags": []
   },
   "outputs": [
    {
     "data": {
      "text/html": [
       "<style>#sk-container-id-1 {color: black;background-color: white;}#sk-container-id-1 pre{padding: 0;}#sk-container-id-1 div.sk-toggleable {background-color: white;}#sk-container-id-1 label.sk-toggleable__label {cursor: pointer;display: block;width: 100%;margin-bottom: 0;padding: 0.3em;box-sizing: border-box;text-align: center;}#sk-container-id-1 label.sk-toggleable__label-arrow:before {content: \"▸\";float: left;margin-right: 0.25em;color: #696969;}#sk-container-id-1 label.sk-toggleable__label-arrow:hover:before {color: black;}#sk-container-id-1 div.sk-estimator:hover label.sk-toggleable__label-arrow:before {color: black;}#sk-container-id-1 div.sk-toggleable__content {max-height: 0;max-width: 0;overflow: hidden;text-align: left;background-color: #f0f8ff;}#sk-container-id-1 div.sk-toggleable__content pre {margin: 0.2em;color: black;border-radius: 0.25em;background-color: #f0f8ff;}#sk-container-id-1 input.sk-toggleable__control:checked~div.sk-toggleable__content {max-height: 200px;max-width: 100%;overflow: auto;}#sk-container-id-1 input.sk-toggleable__control:checked~label.sk-toggleable__label-arrow:before {content: \"▾\";}#sk-container-id-1 div.sk-estimator input.sk-toggleable__control:checked~label.sk-toggleable__label {background-color: #d4ebff;}#sk-container-id-1 div.sk-label input.sk-toggleable__control:checked~label.sk-toggleable__label {background-color: #d4ebff;}#sk-container-id-1 input.sk-hidden--visually {border: 0;clip: rect(1px 1px 1px 1px);clip: rect(1px, 1px, 1px, 1px);height: 1px;margin: -1px;overflow: hidden;padding: 0;position: absolute;width: 1px;}#sk-container-id-1 div.sk-estimator {font-family: monospace;background-color: #f0f8ff;border: 1px dotted black;border-radius: 0.25em;box-sizing: border-box;margin-bottom: 0.5em;}#sk-container-id-1 div.sk-estimator:hover {background-color: #d4ebff;}#sk-container-id-1 div.sk-parallel-item::after {content: \"\";width: 100%;border-bottom: 1px solid gray;flex-grow: 1;}#sk-container-id-1 div.sk-label:hover label.sk-toggleable__label {background-color: #d4ebff;}#sk-container-id-1 div.sk-serial::before {content: \"\";position: absolute;border-left: 1px solid gray;box-sizing: border-box;top: 0;bottom: 0;left: 50%;z-index: 0;}#sk-container-id-1 div.sk-serial {display: flex;flex-direction: column;align-items: center;background-color: white;padding-right: 0.2em;padding-left: 0.2em;position: relative;}#sk-container-id-1 div.sk-item {position: relative;z-index: 1;}#sk-container-id-1 div.sk-parallel {display: flex;align-items: stretch;justify-content: center;background-color: white;position: relative;}#sk-container-id-1 div.sk-item::before, #sk-container-id-1 div.sk-parallel-item::before {content: \"\";position: absolute;border-left: 1px solid gray;box-sizing: border-box;top: 0;bottom: 0;left: 50%;z-index: -1;}#sk-container-id-1 div.sk-parallel-item {display: flex;flex-direction: column;z-index: 1;position: relative;background-color: white;}#sk-container-id-1 div.sk-parallel-item:first-child::after {align-self: flex-end;width: 50%;}#sk-container-id-1 div.sk-parallel-item:last-child::after {align-self: flex-start;width: 50%;}#sk-container-id-1 div.sk-parallel-item:only-child::after {width: 0;}#sk-container-id-1 div.sk-dashed-wrapped {border: 1px dashed gray;margin: 0 0.4em 0.5em 0.4em;box-sizing: border-box;padding-bottom: 0.4em;background-color: white;}#sk-container-id-1 div.sk-label label {font-family: monospace;font-weight: bold;display: inline-block;line-height: 1.2em;}#sk-container-id-1 div.sk-label-container {text-align: center;}#sk-container-id-1 div.sk-container {/* jupyter's `normalize.less` sets `[hidden] { display: none; }` but bootstrap.min.css set `[hidden] { display: none !important; }` so we also need the `!important` here to be able to override the default hidden behavior on the sphinx rendered scikit-learn.org. See: https://github.com/scikit-learn/scikit-learn/issues/21755 */display: inline-block !important;position: relative;}#sk-container-id-1 div.sk-text-repr-fallback {display: none;}</style><div id=\"sk-container-id-1\" class=\"sk-top-container\"><div class=\"sk-text-repr-fallback\"><pre>RandomForestClassifier(random_state=42)</pre><b>In a Jupyter environment, please rerun this cell to show the HTML representation or trust the notebook. <br />On GitHub, the HTML representation is unable to render, please try loading this page with nbviewer.org.</b></div><div class=\"sk-container\" hidden><div class=\"sk-item\"><div class=\"sk-estimator sk-toggleable\"><input class=\"sk-toggleable__control sk-hidden--visually\" id=\"sk-estimator-id-1\" type=\"checkbox\" checked><label for=\"sk-estimator-id-1\" class=\"sk-toggleable__label sk-toggleable__label-arrow\">RandomForestClassifier</label><div class=\"sk-toggleable__content\"><pre>RandomForestClassifier(random_state=42)</pre></div></div></div></div></div>"
      ],
      "text/plain": [
       "RandomForestClassifier(random_state=42)"
      ]
     },
     "execution_count": 18,
     "metadata": {},
     "output_type": "execute_result"
    }
   ],
   "source": [
    "model.fit(X_train, y_train)"
   ]
  },
  {
   "cell_type": "code",
   "execution_count": 19,
   "id": "4128448a",
   "metadata": {
    "execution": {
     "iopub.execute_input": "2023-10-23T20:27:39.504396Z",
     "iopub.status.busy": "2023-10-23T20:27:39.503889Z",
     "iopub.status.idle": "2023-10-23T20:27:39.541879Z",
     "shell.execute_reply": "2023-10-23T20:27:39.540067Z"
    },
    "papermill": {
     "duration": 0.067666,
     "end_time": "2023-10-23T20:27:39.544912",
     "exception": false,
     "start_time": "2023-10-23T20:27:39.477246",
     "status": "completed"
    },
    "tags": []
   },
   "outputs": [],
   "source": [
    "# Make predictions on the test set\n",
    "\n",
    "y_pred = model.predict(X_test)\n"
   ]
  },
  {
   "cell_type": "markdown",
   "id": "8633a120",
   "metadata": {
    "papermill": {
     "duration": 0.016266,
     "end_time": "2023-10-23T20:27:39.578263",
     "exception": false,
     "start_time": "2023-10-23T20:27:39.561997",
     "status": "completed"
    },
    "tags": []
   },
   "source": [
    "<div style=\"\n",
    "    background-color: black;\n",
    "    padding: 20px;\n",
    "    border-radius: 10px;\n",
    "    box-shadow: 0 0 10px rgba(0, 0, 0, 0.2);\n",
    "    text-align: center;\n",
    "    font-size: 25px;\n",
    "    color: white;\n",
    "    font-weight: bold;\">\n",
    "8. Evaluation\n",
    "</div>"
   ]
  },
  {
   "cell_type": "markdown",
   "id": "692ae25d",
   "metadata": {
    "papermill": {
     "duration": 0.016993,
     "end_time": "2023-10-23T20:27:39.612785",
     "exception": false,
     "start_time": "2023-10-23T20:27:39.595792",
     "status": "completed"
    },
    "tags": []
   },
   "source": [
    "<div style=\"\n",
    "    background-color: #FFFFE0;\n",
    "    padding: 5px;\n",
    "    border-radius: 5px;\n",
    "    box-shadow: 0 0 5px rgba(0, 0, 0, 0.2);\n",
    "    text-align: center;\n",
    "    font-size: 18px;\n",
    "    color: #333;\n",
    "    font-weight: bold;\">\n",
    "  Evaluate the model\n",
    "</div>\n"
   ]
  },
  {
   "cell_type": "code",
   "execution_count": 20,
   "id": "499a3c3f",
   "metadata": {
    "execution": {
     "iopub.execute_input": "2023-10-23T20:27:39.650703Z",
     "iopub.status.busy": "2023-10-23T20:27:39.649818Z",
     "iopub.status.idle": "2023-10-23T20:27:39.654576Z",
     "shell.execute_reply": "2023-10-23T20:27:39.653689Z"
    },
    "papermill": {
     "duration": 0.026639,
     "end_time": "2023-10-23T20:27:39.656758",
     "exception": false,
     "start_time": "2023-10-23T20:27:39.630119",
     "status": "completed"
    },
    "tags": []
   },
   "outputs": [],
   "source": [
    "from sklearn.metrics import accuracy_score"
   ]
  },
  {
   "cell_type": "code",
   "execution_count": 21,
   "id": "b7db0dfd",
   "metadata": {
    "execution": {
     "iopub.execute_input": "2023-10-23T20:27:39.693823Z",
     "iopub.status.busy": "2023-10-23T20:27:39.692921Z",
     "iopub.status.idle": "2023-10-23T20:27:39.700549Z",
     "shell.execute_reply": "2023-10-23T20:27:39.699176Z"
    },
    "papermill": {
     "duration": 0.029922,
     "end_time": "2023-10-23T20:27:39.703674",
     "exception": false,
     "start_time": "2023-10-23T20:27:39.673752",
     "status": "completed"
    },
    "tags": []
   },
   "outputs": [
    {
     "name": "stdout",
     "output_type": "stream",
     "text": [
      "Accuracy: 84.96%\n"
     ]
    }
   ],
   "source": [
    "accuracy = accuracy_score(y_test, y_pred)\n",
    "\n",
    "print(f\"Accuracy: {accuracy * 100:.2f}%\")"
   ]
  },
  {
   "cell_type": "markdown",
   "id": "9d30b535",
   "metadata": {
    "papermill": {
     "duration": 0.016528,
     "end_time": "2023-10-23T20:27:39.738085",
     "exception": false,
     "start_time": "2023-10-23T20:27:39.721557",
     "status": "completed"
    },
    "tags": []
   },
   "source": [
    "<div style=\"\n",
    "    background-color: #FFFFE0;\n",
    "    padding: 5px;\n",
    "    border-radius: 5px;\n",
    "    box-shadow: 0 0 5px rgba(0, 0, 0, 0.2);\n",
    "    text-align: center;\n",
    "    font-size: 18px;\n",
    "    color: #333;\n",
    "    font-weight: bold;\">\n",
    "  Classification Report \n",
    "</div>\n"
   ]
  },
  {
   "cell_type": "code",
   "execution_count": 22,
   "id": "1823dd1e",
   "metadata": {
    "execution": {
     "iopub.execute_input": "2023-10-23T20:27:39.773462Z",
     "iopub.status.busy": "2023-10-23T20:27:39.772988Z",
     "iopub.status.idle": "2023-10-23T20:27:39.778213Z",
     "shell.execute_reply": "2023-10-23T20:27:39.776988Z"
    },
    "papermill": {
     "duration": 0.026003,
     "end_time": "2023-10-23T20:27:39.780697",
     "exception": false,
     "start_time": "2023-10-23T20:27:39.754694",
     "status": "completed"
    },
    "tags": []
   },
   "outputs": [],
   "source": [
    "from sklearn.metrics import classification_report"
   ]
  },
  {
   "cell_type": "code",
   "execution_count": 23,
   "id": "1c4cf7c5",
   "metadata": {
    "execution": {
     "iopub.execute_input": "2023-10-23T20:27:39.817594Z",
     "iopub.status.busy": "2023-10-23T20:27:39.816560Z",
     "iopub.status.idle": "2023-10-23T20:27:39.835294Z",
     "shell.execute_reply": "2023-10-23T20:27:39.833763Z"
    },
    "papermill": {
     "duration": 0.039955,
     "end_time": "2023-10-23T20:27:39.838114",
     "exception": false,
     "start_time": "2023-10-23T20:27:39.798159",
     "status": "completed"
    },
    "tags": []
   },
   "outputs": [
    {
     "name": "stdout",
     "output_type": "stream",
     "text": [
      "              precision    recall  f1-score   support\n",
      "\n",
      "           0       0.86      0.92      0.89       610\n",
      "           1       0.82      0.72      0.77       321\n",
      "\n",
      "    accuracy                           0.85       931\n",
      "   macro avg       0.84      0.82      0.83       931\n",
      "weighted avg       0.85      0.85      0.85       931\n",
      "\n"
     ]
    }
   ],
   "source": [
    "print(classification_report(y_test, y_pred))"
   ]
  },
  {
   "cell_type": "markdown",
   "id": "60b99268",
   "metadata": {
    "papermill": {
     "duration": 0.016199,
     "end_time": "2023-10-23T20:27:39.871099",
     "exception": false,
     "start_time": "2023-10-23T20:27:39.854900",
     "status": "completed"
    },
    "tags": []
   },
   "source": [
    "<div style=\"\n",
    "    background-color: black;\n",
    "    padding: 20px;\n",
    "    border-radius: 10px;\n",
    "    box-shadow: 0 0 10px rgba(0, 0, 0, 0.2);\n",
    "    text-align: center;\n",
    "    font-size: 25px;\n",
    "    color: white;\n",
    "    font-weight: bold;\">\n",
    "9. Confusion Matrix\n",
    "</div>"
   ]
  },
  {
   "cell_type": "code",
   "execution_count": 24,
   "id": "cedccd84",
   "metadata": {
    "execution": {
     "iopub.execute_input": "2023-10-23T20:27:39.907084Z",
     "iopub.status.busy": "2023-10-23T20:27:39.905763Z",
     "iopub.status.idle": "2023-10-23T20:27:39.910951Z",
     "shell.execute_reply": "2023-10-23T20:27:39.910165Z"
    },
    "papermill": {
     "duration": 0.025265,
     "end_time": "2023-10-23T20:27:39.913000",
     "exception": false,
     "start_time": "2023-10-23T20:27:39.887735",
     "status": "completed"
    },
    "tags": []
   },
   "outputs": [],
   "source": [
    "from sklearn.metrics import confusion_matrix"
   ]
  },
  {
   "cell_type": "code",
   "execution_count": 25,
   "id": "fbccdeb4",
   "metadata": {
    "execution": {
     "iopub.execute_input": "2023-10-23T20:27:39.949359Z",
     "iopub.status.busy": "2023-10-23T20:27:39.947954Z",
     "iopub.status.idle": "2023-10-23T20:27:40.269072Z",
     "shell.execute_reply": "2023-10-23T20:27:40.267816Z"
    },
    "papermill": {
     "duration": 0.342095,
     "end_time": "2023-10-23T20:27:40.271915",
     "exception": false,
     "start_time": "2023-10-23T20:27:39.929820",
     "status": "completed"
    },
    "tags": []
   },
   "outputs": [
    {
     "data": {
      "image/png": "[encoded data removed]",
      "text/plain": [
       "<Figure size 1000x600 with 2 Axes>"
      ]
     },
     "metadata": {},
     "output_type": "display_data"
    }
   ],
   "source": [
    "cm = confusion_matrix(y_test, y_pred)\n",
    "\n",
    "plt.figure(figsize=(10, 6))\n",
    "\n",
    "sns.heatmap(\n",
    "    cm, annot=True, fmt='d', cmap='copper', linewidths=0.4, square=True, cbar=True,\n",
    "    xticklabels=[\"0\", \"1\"],\n",
    "    yticklabels=[\"0\", \"1\"]\n",
    ")\n",
    "\n",
    "plt.xlabel('Predicted', fontsize=14, fontweight='bold')\n",
    "plt.ylabel('Actual', fontsize=14, fontweight='bold')\n",
    "plt.title('Confusion Matrix', fontsize=16, fontweight='bold')\n",
    "plt.yticks(rotation=360)\n",
    "\n",
    "plt.show()"
   ]
  },
  {
   "cell_type": "markdown",
   "id": "844377ca",
   "metadata": {
    "papermill": {
     "duration": 0.016588,
     "end_time": "2023-10-23T20:27:40.306036",
     "exception": false,
     "start_time": "2023-10-23T20:27:40.289448",
     "status": "completed"
    },
    "tags": []
   },
   "source": [
    "<div style=\"\n",
    "    background-color: black;\n",
    "    padding: 30px;\n",
    "    border-radius: 10px;\n",
    "    box-shadow: 0 0 10px rgba(0, 0, 0, 0.2);\n",
    "    text-align: center;\n",
    "    font-size: 35px;\n",
    "    color: white;\n",
    "    font-weight: bold;\">\n",
    "Thank You\n",
    "</div>"
   ]
  }
 ],
 "metadata": {
  "kernelspec": {
   "display_name": "Python 3",
   "language": "python",
   "name": "python3"
  },
  "language_info": {
   "codemirror_mode": {
    "name": "ipython",
    "version": 3
   },
   "file_extension": ".py",
   "mimetype": "text/x-python",
   "name": "python",
   "nbconvert_exporter": "python",
   "pygments_lexer": "ipython3",
   "version": "3.10.12"
  },
  "papermill": {
   "default_parameters": {},
   "duration": 11.805006,
   "end_time": "2023-10-23T20:27:41.247179",
   "environment_variables": {},
   "exception": null,
   "input_path": "__notebook__.ipynb",
   "output_path": "__notebook__.ipynb",
   "parameters": {},
   "start_time": "2023-10-23T20:27:29.442173",
   "version": "2.4.0"
  }
 },
 "nbformat": 4,
 "nbformat_minor": 5
}
